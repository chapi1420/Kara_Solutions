{
 "cells": [
  {
   "cell_type": "code",
   "execution_count": 1,
   "metadata": {},
   "outputs": [],
   "source": [
    "import os\n",
    "import sys"
   ]
  },
  {
   "cell_type": "code",
   "execution_count": 2,
   "metadata": {},
   "outputs": [],
   "source": [
    "sys.path.append(os.path.abspath('..'))"
   ]
  },
  {
   "cell_type": "code",
   "execution_count": 3,
   "metadata": {},
   "outputs": [],
   "source": [
    "from scripts.cleaning import DataCleaner"
   ]
  },
  {
   "cell_type": "code",
   "execution_count": 4,
   "metadata": {},
   "outputs": [],
   "source": [
    "data_path = '/home/nahomnadew/Desktop/10x/week7/Kara_Solutions/data/telegram_data2.csv'\n",
    "cleaned_data_path = '/home/nahomnadew/Desktop/10x/week7/Kara_Solutions/data/cleaned_telegram_data.csv'"
   ]
  },
  {
   "cell_type": "code",
   "execution_count": 5,
   "metadata": {},
   "outputs": [],
   "source": [
    "clean = DataCleaner()"
   ]
  },
  {
   "cell_type": "code",
   "execution_count": 6,
   "metadata": {},
   "outputs": [
    {
     "name": "stderr",
     "output_type": "stream",
     "text": [
      "2025-01-31 11:14:19,549 - INFO -  CSV file '/home/nahomnadew/Desktop/10x/week7/Kara_Solutions/data/telegram_data2.csv' loaded successfully.\n"
     ]
    }
   ],
   "source": [
    "df = clean.load_csv(data_path)"
   ]
  },
  {
   "cell_type": "code",
   "execution_count": 7,
   "metadata": {},
   "outputs": [
    {
     "name": "stdout",
     "output_type": "stream",
     "text": [
      "Index(['Channel Title', 'Channel Username', 'ID', 'Message', 'Date',\n",
      "       'Media Path'],\n",
      "      dtype='object')\n",
      "                                       Channel Title Channel Username    ID  \\\n",
      "0  ETHIO-AMERICAN MEDICAL TRAININGS( CPD ) & HEAL...           @EAHCI  2603   \n",
      "1  ETHIO-AMERICAN MEDICAL TRAININGS( CPD ) & HEAL...           @EAHCI  2602   \n",
      "2  ETHIO-AMERICAN MEDICAL TRAININGS( CPD ) & HEAL...           @EAHCI  2601   \n",
      "3  ETHIO-AMERICAN MEDICAL TRAININGS( CPD ) & HEAL...           @EAHCI  2600   \n",
      "4  ETHIO-AMERICAN MEDICAL TRAININGS( CPD ) & HEAL...           @EAHCI  2598   \n",
      "\n",
      "                                             Message  \\\n",
      "0  #የግርዛት_ስልጠና_ወላይታ_ሶዶ\\n#Circumcision_Skill_Train...   \n",
      "1  #ENGLISH_LANGUAGE_TRAINING\\n👉Grammar\\n👉Vocabul...   \n",
      "2  Congratulations to our beloved trainees on com...   \n",
      "3  #የግርዛት_ስልጠና_Addis_Ababa \\n#Circumcision_Skill_...   \n",
      "4   #💥CPD_አሁን_ይመዝገቡ #የሞያ_ፈቃድ_ለማሳደስ_CPD_ይመዝገቡ\\n#Ti...   \n",
      "\n",
      "                        Date  Media Path  \n",
      "0  2025-01-30 12:42:18+00:00         NaN  \n",
      "1  2025-01-30 12:17:14+00:00         NaN  \n",
      "2  2025-01-30 09:57:21+00:00         NaN  \n",
      "3  2025-01-29 17:00:02+00:00         NaN  \n",
      "4  2025-01-29 12:34:11+00:00         NaN  \n"
     ]
    }
   ],
   "source": [
    "print(df.columns)\n",
    "print(df.head())"
   ]
  },
  {
   "cell_type": "code",
   "execution_count": 8,
   "metadata": {},
   "outputs": [
    {
     "name": "stderr",
     "output_type": "stream",
     "text": [
      "2025-01-31 11:14:19,598 - INFO -  Duplicates removed from dataset.\n",
      "2025-01-31 11:14:19,637 - INFO -  Date column formatted to datetime.\n"
     ]
    },
    {
     "name": "stderr",
     "output_type": "stream",
     "text": [
      "/home/nahomnadew/Desktop/10x/week7/Kara_Solutions/scripts/cleaning.py:74: FutureWarning: Setting an item of incompatible dtype is deprecated and will raise in a future error of pandas. Value '['No Media' 'No Media' 'No Media' ... 'No Media' 'No Media' 'No Media']' has dtype incompatible with float64, please explicitly cast to a compatible dtype first.\n",
      "  df.loc[:, 'Media Path'] = df['Media Path'].fillna(\"No Media\")\n",
      "2025-01-31 11:14:19,645 - INFO -  Missing values filled.\n",
      "2025-01-31 11:14:19,685 - INFO -  Text columns standardized.\n",
      "2025-01-31 11:14:19,762 - INFO -  Emojis extracted and stored in 'emoji_used' column.\n",
      "2025-01-31 11:14:19,864 - INFO - YouTube links extracted and stored in 'youtube_links' column.\n",
      "2025-01-31 11:14:19,871 - INFO -  Data cleaning completed successfully.\n"
     ]
    }
   ],
   "source": [
    "df2 = clean.clean_dataframe(df)"
   ]
  },
  {
   "cell_type": "code",
   "execution_count": 10,
   "metadata": {},
   "outputs": [
    {
     "name": "stderr",
     "output_type": "stream",
     "text": [
      "2025-01-31 11:14:30,587 - INFO -  Cleaned data saved successfully to '/home/nahomnadew/Desktop/10x/week7/Kara_Solutions/data/cleaned_telegram_data.csv'.\n"
     ]
    },
    {
     "name": "stdout",
     "output_type": "stream",
     "text": [
      " Cleaned data saved successfully to '/home/nahomnadew/Desktop/10x/week7/Kara_Solutions/data/cleaned_telegram_data.csv'.\n"
     ]
    }
   ],
   "source": [
    "clean.save_cleaned_data(df2, cleaned_data_path)"
   ]
  },
  {
   "cell_type": "code",
   "execution_count": null,
   "metadata": {},
   "outputs": [],
   "source": []
  }
 ],
 "metadata": {
  "kernelspec": {
   "display_name": "env7",
   "language": "python",
   "name": "python3"
  },
  "language_info": {
   "codemirror_mode": {
    "name": "ipython",
    "version": 3
   },
   "file_extension": ".py",
   "mimetype": "text/x-python",
   "name": "python",
   "nbconvert_exporter": "python",
   "pygments_lexer": "ipython3",
   "version": "3.12.3"
  }
 },
 "nbformat": 4,
 "nbformat_minor": 2
}
