{
 "cells": [
  {
   "cell_type": "code",
   "execution_count": 1,
   "metadata": {},
   "outputs": [],
   "source": [
    "import os\n",
    "import sys"
   ]
  },
  {
   "cell_type": "code",
   "execution_count": 2,
   "metadata": {},
   "outputs": [],
   "source": [
    "sys.path.append(os.path.abspath('..'))"
   ]
  },
  {
   "cell_type": "code",
   "execution_count": 3,
   "metadata": {},
   "outputs": [],
   "source": [
    "from scripts.cleaning import DataCleaner"
   ]
  },
  {
   "cell_type": "code",
   "execution_count": 4,
   "metadata": {},
   "outputs": [],
   "source": [
    "data_path = '/home/nahomnadew/Desktop/10x/week7/Kara_Solutions/data/telegram_data2.csv'\n",
    "cleaned_data_path = '/home/nahomnadew/Desktop/10x/week7/Kara_Solutions/data/cleaned_telegram_data.csv'"
   ]
  },
  {
   "cell_type": "code",
   "execution_count": 5,
   "metadata": {},
   "outputs": [],
   "source": [
    "clean = DataCleaner()"
   ]
  },
  {
   "cell_type": "code",
   "execution_count": 6,
   "metadata": {},
   "outputs": [
    {
     "name": "stderr",
     "output_type": "stream",
     "text": [
      "2025-01-30 19:30:50,372 - INFO -  CSV file '/home/nahomnadew/Desktop/10x/week7/Kara_Solutions/data/telegram_data2.csv' loaded successfully.\n"
     ]
    }
   ],
   "source": [
    "df = clean.load_csv(data_path)"
   ]
  },
  {
   "cell_type": "code",
   "execution_count": 7,
   "metadata": {},
   "outputs": [
    {
     "name": "stdout",
     "output_type": "stream",
     "text": [
      "Index(['Channel Title', 'Channel Username', 'ID', 'Message', 'Date',\n",
      "       'Media Path'],\n",
      "      dtype='object')\n",
      "                                       Channel Title Channel Username    ID  \\\n",
      "0  ETHIO-AMERICAN MEDICAL TRAININGS( CPD ) & HEAL...           @EAHCI  2603   \n",
      "1  ETHIO-AMERICAN MEDICAL TRAININGS( CPD ) & HEAL...           @EAHCI  2602   \n",
      "2  ETHIO-AMERICAN MEDICAL TRAININGS( CPD ) & HEAL...           @EAHCI  2601   \n",
      "3  ETHIO-AMERICAN MEDICAL TRAININGS( CPD ) & HEAL...           @EAHCI  2600   \n",
      "4  ETHIO-AMERICAN MEDICAL TRAININGS( CPD ) & HEAL...           @EAHCI  2598   \n",
      "\n",
      "                                             Message  \\\n",
      "0  #የግርዛት_ስልጠና_ወላይታ_ሶዶ\\n#Circumcision_Skill_Train...   \n",
      "1  #ENGLISH_LANGUAGE_TRAINING\\n👉Grammar\\n👉Vocabul...   \n",
      "2  Congratulations to our beloved trainees on com...   \n",
      "3  #የግርዛት_ስልጠና_Addis_Ababa \\n#Circumcision_Skill_...   \n",
      "4   #💥CPD_አሁን_ይመዝገቡ #የሞያ_ፈቃድ_ለማሳደስ_CPD_ይመዝገቡ\\n#Ti...   \n",
      "\n",
      "                        Date  Media Path  \n",
      "0  2025-01-30 12:42:18+00:00         NaN  \n",
      "1  2025-01-30 12:17:14+00:00         NaN  \n",
      "2  2025-01-30 09:57:21+00:00         NaN  \n",
      "3  2025-01-29 17:00:02+00:00         NaN  \n",
      "4  2025-01-29 12:34:11+00:00         NaN  \n"
     ]
    }
   ],
   "source": [
    "print(df.columns)\n",
    "print(df.head())"
   ]
  },
  {
   "cell_type": "code",
   "execution_count": 8,
   "metadata": {},
   "outputs": [
    {
     "name": "stderr",
     "output_type": "stream",
     "text": [
      "2025-01-30 19:30:52,984 - INFO -  Duplicates removed from dataset.\n",
      "2025-01-30 19:30:52,999 - INFO -  Date column formatted to datetime.\n",
      "/home/nahomnadew/Desktop/10x/week7/Kara_Solutions/scripts/cleaning.py:74: FutureWarning: Setting an item of incompatible dtype is deprecated and will raise in a future error of pandas. Value '['No Media' 'No Media' 'No Media' ... 'No Media' 'No Media' 'No Media']' has dtype incompatible with float64, please explicitly cast to a compatible dtype first.\n",
      "  df.loc[:, 'Media Path'] = df['Media Path'].fillna(\"No Media\")\n",
      "2025-01-30 19:30:53,002 - INFO -  Missing values filled.\n"
     ]
    },
    {
     "name": "stderr",
     "output_type": "stream",
     "text": [
      "2025-01-30 19:30:53,038 - INFO -  Text columns standardized.\n",
      "2025-01-30 19:30:53,098 - INFO -  Emojis extracted and stored in 'emoji_used' column.\n",
      "2025-01-30 19:30:53,214 - INFO - YouTube links extracted and stored in 'youtube_links' column.\n",
      "2025-01-30 19:30:53,219 - INFO -  Data cleaning completed successfully.\n"
     ]
    },
    {
     "data": {
      "text/html": [
       "<div>\n",
       "<style scoped>\n",
       "    .dataframe tbody tr th:only-of-type {\n",
       "        vertical-align: middle;\n",
       "    }\n",
       "\n",
       "    .dataframe tbody tr th {\n",
       "        vertical-align: top;\n",
       "    }\n",
       "\n",
       "    .dataframe thead th {\n",
       "        text-align: right;\n",
       "    }\n",
       "</style>\n",
       "<table border=\"1\" class=\"dataframe\">\n",
       "  <thead>\n",
       "    <tr style=\"text-align: right;\">\n",
       "      <th></th>\n",
       "      <th>channel_title</th>\n",
       "      <th>channel_username</th>\n",
       "      <th>message_id</th>\n",
       "      <th>message</th>\n",
       "      <th>message_date</th>\n",
       "      <th>media_path</th>\n",
       "      <th>emoji_used</th>\n",
       "      <th>youtube_links</th>\n",
       "    </tr>\n",
       "  </thead>\n",
       "  <tbody>\n",
       "    <tr>\n",
       "      <th>0</th>\n",
       "      <td>ETHIO-AMERICAN MEDICAL TRAININGS( CPD ) &amp; HEAL...</td>\n",
       "      <td>@EAHCI</td>\n",
       "      <td>2603</td>\n",
       "      <td>#የግርዛት_ስልጠና_ወላይታ_ሶዶ #Circumcision_Skill_Traini...</td>\n",
       "      <td>2025-01-30 12:42:18+00:00</td>\n",
       "      <td>No Media</td>\n",
       "      <td>🔶🔶🔶🔶🔶🔶🔶🔶🔶🔶👉👉👉📞📞📞📞📞📞👉👉</td>\n",
       "      <td>No YouTube link</td>\n",
       "    </tr>\n",
       "    <tr>\n",
       "      <th>1</th>\n",
       "      <td>ETHIO-AMERICAN MEDICAL TRAININGS( CPD ) &amp; HEAL...</td>\n",
       "      <td>@EAHCI</td>\n",
       "      <td>2602</td>\n",
       "      <td>#ENGLISH_LANGUAGE_TRAINING Grammar Vocabulary ...</td>\n",
       "      <td>2025-01-30 12:17:14+00:00</td>\n",
       "      <td>No Media</td>\n",
       "      <td>👉👉👉📌📞📞</td>\n",
       "      <td>No YouTube link</td>\n",
       "    </tr>\n",
       "    <tr>\n",
       "      <th>2</th>\n",
       "      <td>ETHIO-AMERICAN MEDICAL TRAININGS( CPD ) &amp; HEAL...</td>\n",
       "      <td>@EAHCI</td>\n",
       "      <td>2601</td>\n",
       "      <td>Congratulations to our beloved trainees on com...</td>\n",
       "      <td>2025-01-30 09:57:21+00:00</td>\n",
       "      <td>No Media</td>\n",
       "      <td>🎉🎊</td>\n",
       "      <td>No YouTube link</td>\n",
       "    </tr>\n",
       "    <tr>\n",
       "      <th>3</th>\n",
       "      <td>ETHIO-AMERICAN MEDICAL TRAININGS( CPD ) &amp; HEAL...</td>\n",
       "      <td>@EAHCI</td>\n",
       "      <td>2600</td>\n",
       "      <td>#የግርዛት_ስልጠና_Addis_Ababa  #Circumcision_Skill_T...</td>\n",
       "      <td>2025-01-29 17:00:02+00:00</td>\n",
       "      <td>No Media</td>\n",
       "      <td>🔶🔶🔶🔶🔶🔶🔶🔶🔶🔶👉👉📞📞📞📞📞📞👉👉</td>\n",
       "      <td>No YouTube link</td>\n",
       "    </tr>\n",
       "    <tr>\n",
       "      <th>4</th>\n",
       "      <td>ETHIO-AMERICAN MEDICAL TRAININGS( CPD ) &amp; HEAL...</td>\n",
       "      <td>@EAHCI</td>\n",
       "      <td>2598</td>\n",
       "      <td>#CPD_አሁን_ይመዝገቡ #የሞያ_ፈቃድ_ለማሳደስ_CPD_ይመዝገቡ #Title...</td>\n",
       "      <td>2025-01-29 12:34:11+00:00</td>\n",
       "      <td>No Media</td>\n",
       "      <td>💥🔶👉📱📱📱📱📱📳🏃❗</td>\n",
       "      <td>No YouTube link</td>\n",
       "    </tr>\n",
       "    <tr>\n",
       "      <th>...</th>\n",
       "      <td>...</td>\n",
       "      <td>...</td>\n",
       "      <td>...</td>\n",
       "      <td>...</td>\n",
       "      <td>...</td>\n",
       "      <td>...</td>\n",
       "      <td>...</td>\n",
       "      <td>...</td>\n",
       "    </tr>\n",
       "    <tr>\n",
       "      <th>6108</th>\n",
       "      <td>የጤና ወግ - የጤና መረጃ</td>\n",
       "      <td>@yetenaweg</td>\n",
       "      <td>328</td>\n",
       "      <td>Yetenaweg &amp;  Ethiopia Jazz Hour   On club hous...</td>\n",
       "      <td>2021-06-24 05:11:06+00:00</td>\n",
       "      <td>No Media</td>\n",
       "      <td>🎙🎶🎧👋🗓🙉🍵😉📌📌</td>\n",
       "      <td>No YouTube link</td>\n",
       "    </tr>\n",
       "    <tr>\n",
       "      <th>6110</th>\n",
       "      <td>የጤና ወግ - የጤና መረጃ</td>\n",
       "      <td>@yetenaweg</td>\n",
       "      <td>326</td>\n",
       "      <td>https://yetenaweg.com/</td>\n",
       "      <td>2021-06-20 21:11:39+00:00</td>\n",
       "      <td>No Media</td>\n",
       "      <td>No emoji</td>\n",
       "      <td>No YouTube link</td>\n",
       "    </tr>\n",
       "    <tr>\n",
       "      <th>6286</th>\n",
       "      <td>የጤና ወግ - የጤና መረጃ</td>\n",
       "      <td>@yetenaweg</td>\n",
       "      <td>134</td>\n",
       "      <td>No Message</td>\n",
       "      <td>2020-03-31 23:11:26+00:00</td>\n",
       "      <td>No Media</td>\n",
       "      <td>No emoji</td>\n",
       "      <td>No YouTube link</td>\n",
       "    </tr>\n",
       "    <tr>\n",
       "      <th>6347</th>\n",
       "      <td>የጤና ወግ - የጤና መረጃ</td>\n",
       "      <td>@yetenaweg</td>\n",
       "      <td>59</td>\n",
       "      <td>No Message</td>\n",
       "      <td>2020-03-13 19:01:24+00:00</td>\n",
       "      <td>No Media</td>\n",
       "      <td>No emoji</td>\n",
       "      <td>No YouTube link</td>\n",
       "    </tr>\n",
       "    <tr>\n",
       "      <th>6369</th>\n",
       "      <td>የጤና ወግ - የጤና መረጃ</td>\n",
       "      <td>@yetenaweg</td>\n",
       "      <td>35</td>\n",
       "      <td>No Message</td>\n",
       "      <td>2020-02-26 01:53:32+00:00</td>\n",
       "      <td>No Media</td>\n",
       "      <td>No emoji</td>\n",
       "      <td>No YouTube link</td>\n",
       "    </tr>\n",
       "  </tbody>\n",
       "</table>\n",
       "<p>4606 rows × 8 columns</p>\n",
       "</div>"
      ],
      "text/plain": [
       "                                          channel_title channel_username  \\\n",
       "0     ETHIO-AMERICAN MEDICAL TRAININGS( CPD ) & HEAL...           @EAHCI   \n",
       "1     ETHIO-AMERICAN MEDICAL TRAININGS( CPD ) & HEAL...           @EAHCI   \n",
       "2     ETHIO-AMERICAN MEDICAL TRAININGS( CPD ) & HEAL...           @EAHCI   \n",
       "3     ETHIO-AMERICAN MEDICAL TRAININGS( CPD ) & HEAL...           @EAHCI   \n",
       "4     ETHIO-AMERICAN MEDICAL TRAININGS( CPD ) & HEAL...           @EAHCI   \n",
       "...                                                 ...              ...   \n",
       "6108                                   የጤና ወግ - የጤና መረጃ       @yetenaweg   \n",
       "6110                                   የጤና ወግ - የጤና መረጃ       @yetenaweg   \n",
       "6286                                   የጤና ወግ - የጤና መረጃ       @yetenaweg   \n",
       "6347                                   የጤና ወግ - የጤና መረጃ       @yetenaweg   \n",
       "6369                                   የጤና ወግ - የጤና መረጃ       @yetenaweg   \n",
       "\n",
       "      message_id                                            message  \\\n",
       "0           2603  #የግርዛት_ስልጠና_ወላይታ_ሶዶ #Circumcision_Skill_Traini...   \n",
       "1           2602  #ENGLISH_LANGUAGE_TRAINING Grammar Vocabulary ...   \n",
       "2           2601  Congratulations to our beloved trainees on com...   \n",
       "3           2600  #የግርዛት_ስልጠና_Addis_Ababa  #Circumcision_Skill_T...   \n",
       "4           2598  #CPD_አሁን_ይመዝገቡ #የሞያ_ፈቃድ_ለማሳደስ_CPD_ይመዝገቡ #Title...   \n",
       "...          ...                                                ...   \n",
       "6108         328  Yetenaweg &  Ethiopia Jazz Hour   On club hous...   \n",
       "6110         326                             https://yetenaweg.com/   \n",
       "6286         134                                         No Message   \n",
       "6347          59                                         No Message   \n",
       "6369          35                                         No Message   \n",
       "\n",
       "                   message_date media_path             emoji_used  \\\n",
       "0     2025-01-30 12:42:18+00:00   No Media  🔶🔶🔶🔶🔶🔶🔶🔶🔶🔶👉👉👉📞📞📞📞📞📞👉👉   \n",
       "1     2025-01-30 12:17:14+00:00   No Media                 👉👉👉📌📞📞   \n",
       "2     2025-01-30 09:57:21+00:00   No Media                     🎉🎊   \n",
       "3     2025-01-29 17:00:02+00:00   No Media   🔶🔶🔶🔶🔶🔶🔶🔶🔶🔶👉👉📞📞📞📞📞📞👉👉   \n",
       "4     2025-01-29 12:34:11+00:00   No Media            💥🔶👉📱📱📱📱📱📳🏃❗   \n",
       "...                         ...        ...                    ...   \n",
       "6108  2021-06-24 05:11:06+00:00   No Media             🎙🎶🎧👋🗓🙉🍵😉📌📌   \n",
       "6110  2021-06-20 21:11:39+00:00   No Media               No emoji   \n",
       "6286  2020-03-31 23:11:26+00:00   No Media               No emoji   \n",
       "6347  2020-03-13 19:01:24+00:00   No Media               No emoji   \n",
       "6369  2020-02-26 01:53:32+00:00   No Media               No emoji   \n",
       "\n",
       "        youtube_links  \n",
       "0     No YouTube link  \n",
       "1     No YouTube link  \n",
       "2     No YouTube link  \n",
       "3     No YouTube link  \n",
       "4     No YouTube link  \n",
       "...               ...  \n",
       "6108  No YouTube link  \n",
       "6110  No YouTube link  \n",
       "6286  No YouTube link  \n",
       "6347  No YouTube link  \n",
       "6369  No YouTube link  \n",
       "\n",
       "[4606 rows x 8 columns]"
      ]
     },
     "execution_count": 8,
     "metadata": {},
     "output_type": "execute_result"
    }
   ],
   "source": [
    "clean.clean_dataframe(df)"
   ]
  },
  {
   "cell_type": "code",
   "execution_count": 9,
   "metadata": {},
   "outputs": [
    {
     "name": "stderr",
     "output_type": "stream",
     "text": [
      "2025-01-30 19:33:05,705 - INFO -  Cleaned data saved successfully to '/home/nahomnadew/Desktop/10x/week7/Kara_Solutions/data/cleaned_telegram_data.csv'.\n"
     ]
    },
    {
     "name": "stdout",
     "output_type": "stream",
     "text": [
      " Cleaned data saved successfully to '/home/nahomnadew/Desktop/10x/week7/Kara_Solutions/data/cleaned_telegram_data.csv'.\n"
     ]
    }
   ],
   "source": [
    "clean.save_cleaned_data(df, cleaned_data_path)"
   ]
  },
  {
   "cell_type": "code",
   "execution_count": null,
   "metadata": {},
   "outputs": [],
   "source": []
  }
 ],
 "metadata": {
  "kernelspec": {
   "display_name": "env7",
   "language": "python",
   "name": "python3"
  },
  "language_info": {
   "codemirror_mode": {
    "name": "ipython",
    "version": 3
   },
   "file_extension": ".py",
   "mimetype": "text/x-python",
   "name": "python",
   "nbconvert_exporter": "python",
   "pygments_lexer": "ipython3",
   "version": "3.12.3"
  }
 },
 "nbformat": 4,
 "nbformat_minor": 2
}
